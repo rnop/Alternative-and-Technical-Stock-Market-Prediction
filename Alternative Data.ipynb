{
 "cells": [
  {
   "cell_type": "code",
   "execution_count": 1,
   "metadata": {},
   "outputs": [],
   "source": [
    "import pandas as pd\n",
    "import numpy as np\n",
    "\n",
    "import matplotlib.pyplot as plt\n",
    "%matplotlib inline\n",
    "import seaborn as sns\n",
    "import quandl"
   ]
  },
  {
   "cell_type": "markdown",
   "metadata": {},
   "source": [
    "### AAII Investor Sentiment\n",
    "* Weekly "
   ]
  },
  {
   "cell_type": "code",
   "execution_count": 2,
   "metadata": {},
   "outputs": [],
   "source": [
    "aaii = quandl.get(\"AAII/AAII_SENTIMENT\", authtoken=\"***************\")"
   ]
  },
  {
   "cell_type": "code",
   "execution_count": 3,
   "metadata": {},
   "outputs": [
    {
     "data": {
      "text/plain": [
       "(1720, 12)"
      ]
     },
     "execution_count": 3,
     "metadata": {},
     "output_type": "execute_result"
    }
   ],
   "source": [
    "aaii.shape"
   ]
  },
  {
   "cell_type": "code",
   "execution_count": 4,
   "metadata": {},
   "outputs": [
    {
     "data": {
      "text/html": [
       "<div>\n",
       "<style scoped>\n",
       "    .dataframe tbody tr th:only-of-type {\n",
       "        vertical-align: middle;\n",
       "    }\n",
       "\n",
       "    .dataframe tbody tr th {\n",
       "        vertical-align: top;\n",
       "    }\n",
       "\n",
       "    .dataframe thead th {\n",
       "        text-align: right;\n",
       "    }\n",
       "</style>\n",
       "<table border=\"1\" class=\"dataframe\">\n",
       "  <thead>\n",
       "    <tr style=\"text-align: right;\">\n",
       "      <th></th>\n",
       "      <th>Bullish</th>\n",
       "      <th>Neutral</th>\n",
       "      <th>Bearish</th>\n",
       "      <th>Total</th>\n",
       "      <th>Bullish 8-Week Mov Avg</th>\n",
       "      <th>Bull-Bear Spread</th>\n",
       "      <th>Bullish Average</th>\n",
       "      <th>Bullish Average + St. Dev</th>\n",
       "      <th>Bullish Average - St. Dev</th>\n",
       "      <th>S&amp;P 500 Weekly High</th>\n",
       "      <th>S&amp;P 500 Weekly Low</th>\n",
       "      <th>S&amp;P 500 Weekly Close</th>\n",
       "    </tr>\n",
       "    <tr>\n",
       "      <th>Date</th>\n",
       "      <th></th>\n",
       "      <th></th>\n",
       "      <th></th>\n",
       "      <th></th>\n",
       "      <th></th>\n",
       "      <th></th>\n",
       "      <th></th>\n",
       "      <th></th>\n",
       "      <th></th>\n",
       "      <th></th>\n",
       "      <th></th>\n",
       "      <th></th>\n",
       "    </tr>\n",
       "  </thead>\n",
       "  <tbody>\n",
       "    <tr>\n",
       "      <th>1987-06-26</th>\n",
       "      <td>NaN</td>\n",
       "      <td>NaN</td>\n",
       "      <td>NaN</td>\n",
       "      <td>NaN</td>\n",
       "      <td>NaN</td>\n",
       "      <td>NaN</td>\n",
       "      <td>0.386014</td>\n",
       "      <td>0.489178</td>\n",
       "      <td>0.28285</td>\n",
       "      <td>NaN</td>\n",
       "      <td>NaN</td>\n",
       "      <td>NaN</td>\n",
       "    </tr>\n",
       "    <tr>\n",
       "      <th>1987-07-17</th>\n",
       "      <td>NaN</td>\n",
       "      <td>NaN</td>\n",
       "      <td>NaN</td>\n",
       "      <td>NaN</td>\n",
       "      <td>NaN</td>\n",
       "      <td>NaN</td>\n",
       "      <td>0.386014</td>\n",
       "      <td>0.489178</td>\n",
       "      <td>0.28285</td>\n",
       "      <td>314.59</td>\n",
       "      <td>307.63</td>\n",
       "      <td>314.59</td>\n",
       "    </tr>\n",
       "    <tr>\n",
       "      <th>1987-07-24</th>\n",
       "      <td>0.36</td>\n",
       "      <td>0.5</td>\n",
       "      <td>0.14</td>\n",
       "      <td>1.0</td>\n",
       "      <td>NaN</td>\n",
       "      <td>0.22</td>\n",
       "      <td>0.386014</td>\n",
       "      <td>0.489178</td>\n",
       "      <td>0.28285</td>\n",
       "      <td>311.39</td>\n",
       "      <td>307.81</td>\n",
       "      <td>309.27</td>\n",
       "    </tr>\n",
       "  </tbody>\n",
       "</table>\n",
       "</div>"
      ],
      "text/plain": [
       "            Bullish  Neutral  Bearish  Total  Bullish 8-Week Mov Avg  \\\n",
       "Date                                                                   \n",
       "1987-06-26      NaN      NaN      NaN    NaN                     NaN   \n",
       "1987-07-17      NaN      NaN      NaN    NaN                     NaN   \n",
       "1987-07-24     0.36      0.5     0.14    1.0                     NaN   \n",
       "\n",
       "            Bull-Bear Spread  Bullish Average  Bullish Average + St. Dev  \\\n",
       "Date                                                                       \n",
       "1987-06-26               NaN         0.386014                   0.489178   \n",
       "1987-07-17               NaN         0.386014                   0.489178   \n",
       "1987-07-24              0.22         0.386014                   0.489178   \n",
       "\n",
       "            Bullish Average - St. Dev  S&P 500 Weekly High  \\\n",
       "Date                                                         \n",
       "1987-06-26                    0.28285                  NaN   \n",
       "1987-07-17                    0.28285               314.59   \n",
       "1987-07-24                    0.28285               311.39   \n",
       "\n",
       "            S&P 500 Weekly Low  S&P 500 Weekly Close  \n",
       "Date                                                  \n",
       "1987-06-26                 NaN                   NaN  \n",
       "1987-07-17              307.63                314.59  \n",
       "1987-07-24              307.81                309.27  "
      ]
     },
     "execution_count": 4,
     "metadata": {},
     "output_type": "execute_result"
    }
   ],
   "source": [
    "aaii.head(3)"
   ]
  },
  {
   "cell_type": "code",
   "execution_count": 5,
   "metadata": {},
   "outputs": [
    {
     "data": {
      "image/png": "[encoded data removed]",
      "text/plain": [
       "<Figure size 432x288 with 1 Axes>"
      ]
     },
     "metadata": {
      "needs_background": "light"
     },
     "output_type": "display_data"
    }
   ],
   "source": [
    "sns.distplot(aaii['Bullish'], bins=50)\n",
    "plt.show()"
   ]
  },
  {
   "cell_type": "code",
   "execution_count": 6,
   "metadata": {},
   "outputs": [
    {
     "data": {
      "image/png": "[encoded data removed]",
      "text/plain": [
       "<Figure size 432x288 with 1 Axes>"
      ]
     },
     "metadata": {
      "needs_background": "light"
     },
     "output_type": "display_data"
    }
   ],
   "source": [
    "sns.distplot(aaii['Neutral'], bins=50)\n",
    "plt.show()"
   ]
  },
  {
   "cell_type": "code",
   "execution_count": 7,
   "metadata": {},
   "outputs": [
    {
     "data": {
      "image/png": "[encoded data removed]",
      "text/plain": [
       "<Figure size 432x288 with 1 Axes>"
      ]
     },
     "metadata": {
      "needs_background": "light"
     },
     "output_type": "display_data"
    }
   ],
   "source": [
    "sns.distplot(aaii['Bearish'], bins=50)\n",
    "plt.show()"
   ]
  },
  {
   "cell_type": "code",
   "execution_count": 8,
   "metadata": {},
   "outputs": [
    {
     "data": {
      "image/png": "[encoded data removed]",
      "text/plain": [
       "<Figure size 432x288 with 1 Axes>"
      ]
     },
     "metadata": {
      "needs_background": "light"
     },
     "output_type": "display_data"
    }
   ],
   "source": [
    "sns.distplot(aaii['Bull-Bear Spread'], bins=50)\n",
    "plt.show()"
   ]
  },
  {
   "cell_type": "code",
   "execution_count": 9,
   "metadata": {},
   "outputs": [],
   "source": [
    "aaii = aaii[['Bullish','Neutral','Bearish','Bull-Bear Spread']].pct_change().dropna()\n",
    "\n",
    "aaii = aaii[['Bullish','Neutral','Bearish','Bull-Bear Spread']]\n",
    "\n",
    "aaii = aaii.resample('d').ffill().dropna()"
   ]
  },
  {
   "cell_type": "code",
   "execution_count": 10,
   "metadata": {},
   "outputs": [
    {
     "data": {
      "text/html": [
       "<div>\n",
       "<style scoped>\n",
       "    .dataframe tbody tr th:only-of-type {\n",
       "        vertical-align: middle;\n",
       "    }\n",
       "\n",
       "    .dataframe tbody tr th {\n",
       "        vertical-align: top;\n",
       "    }\n",
       "\n",
       "    .dataframe thead th {\n",
       "        text-align: right;\n",
       "    }\n",
       "</style>\n",
       "<table border=\"1\" class=\"dataframe\">\n",
       "  <thead>\n",
       "    <tr style=\"text-align: right;\">\n",
       "      <th></th>\n",
       "      <th>Bullish</th>\n",
       "      <th>Neutral</th>\n",
       "      <th>Bearish</th>\n",
       "      <th>Bull-Bear Spread</th>\n",
       "    </tr>\n",
       "    <tr>\n",
       "      <th>Date</th>\n",
       "      <th></th>\n",
       "      <th></th>\n",
       "      <th></th>\n",
       "      <th></th>\n",
       "    </tr>\n",
       "  </thead>\n",
       "  <tbody>\n",
       "    <tr>\n",
       "      <th>1987-07-31</th>\n",
       "      <td>-0.277778</td>\n",
       "      <td>-0.04</td>\n",
       "      <td>0.857143</td>\n",
       "      <td>-1.0</td>\n",
       "    </tr>\n",
       "    <tr>\n",
       "      <th>1987-08-01</th>\n",
       "      <td>-0.277778</td>\n",
       "      <td>-0.04</td>\n",
       "      <td>0.857143</td>\n",
       "      <td>-1.0</td>\n",
       "    </tr>\n",
       "    <tr>\n",
       "      <th>1987-08-02</th>\n",
       "      <td>-0.277778</td>\n",
       "      <td>-0.04</td>\n",
       "      <td>0.857143</td>\n",
       "      <td>-1.0</td>\n",
       "    </tr>\n",
       "  </tbody>\n",
       "</table>\n",
       "</div>"
      ],
      "text/plain": [
       "             Bullish  Neutral   Bearish  Bull-Bear Spread\n",
       "Date                                                     \n",
       "1987-07-31 -0.277778    -0.04  0.857143              -1.0\n",
       "1987-08-01 -0.277778    -0.04  0.857143              -1.0\n",
       "1987-08-02 -0.277778    -0.04  0.857143              -1.0"
      ]
     },
     "execution_count": 10,
     "metadata": {},
     "output_type": "execute_result"
    }
   ],
   "source": [
    "aaii.head(3)"
   ]
  },
  {
   "cell_type": "code",
   "execution_count": 27,
   "metadata": {
    "scrolled": true
   },
   "outputs": [
    {
     "data": {
      "text/html": [
       "<div>\n",
       "<style scoped>\n",
       "    .dataframe tbody tr th:only-of-type {\n",
       "        vertical-align: middle;\n",
       "    }\n",
       "\n",
       "    .dataframe tbody tr th {\n",
       "        vertical-align: top;\n",
       "    }\n",
       "\n",
       "    .dataframe thead th {\n",
       "        text-align: right;\n",
       "    }\n",
       "</style>\n",
       "<table border=\"1\" class=\"dataframe\">\n",
       "  <thead>\n",
       "    <tr style=\"text-align: right;\">\n",
       "      <th></th>\n",
       "      <th>Bullish</th>\n",
       "      <th>Neutral</th>\n",
       "      <th>Bearish</th>\n",
       "      <th>Bull-Bear Spread</th>\n",
       "    </tr>\n",
       "    <tr>\n",
       "      <th>Date</th>\n",
       "      <th></th>\n",
       "      <th></th>\n",
       "      <th></th>\n",
       "      <th></th>\n",
       "    </tr>\n",
       "  </thead>\n",
       "  <tbody>\n",
       "    <tr>\n",
       "      <th>2020-06-23</th>\n",
       "      <td>-0.289106</td>\n",
       "      <td>0.006327</td>\n",
       "      <td>0.255832</td>\n",
       "      <td>5.205666</td>\n",
       "    </tr>\n",
       "    <tr>\n",
       "      <th>2020-06-24</th>\n",
       "      <td>-0.289106</td>\n",
       "      <td>0.006327</td>\n",
       "      <td>0.255832</td>\n",
       "      <td>5.205666</td>\n",
       "    </tr>\n",
       "    <tr>\n",
       "      <th>2020-06-25</th>\n",
       "      <td>-0.009406</td>\n",
       "      <td>-0.031920</td>\n",
       "      <td>0.023397</td>\n",
       "      <td>0.057529</td>\n",
       "    </tr>\n",
       "  </tbody>\n",
       "</table>\n",
       "</div>"
      ],
      "text/plain": [
       "             Bullish   Neutral   Bearish  Bull-Bear Spread\n",
       "Date                                                      \n",
       "2020-06-23 -0.289106  0.006327  0.255832          5.205666\n",
       "2020-06-24 -0.289106  0.006327  0.255832          5.205666\n",
       "2020-06-25 -0.009406 -0.031920  0.023397          0.057529"
      ]
     },
     "execution_count": 27,
     "metadata": {},
     "output_type": "execute_result"
    }
   ],
   "source": [
    "aaii.tail(3)"
   ]
  },
  {
   "cell_type": "code",
   "execution_count": 102,
   "metadata": {},
   "outputs": [
    {
     "name": "stderr",
     "output_type": "stream",
     "text": [
      "C:\\Users\\Ronnie\\Anaconda3\\lib\\site-packages\\ipykernel_launcher.py:3: FutureWarning: The pandas.datetime class is deprecated and will be removed from pandas in a future version. Import from datetime module instead.\n",
      "  This is separate from the ipykernel package so we can avoid doing imports until\n"
     ]
    }
   ],
   "source": [
    "#extrapolate last datapoint to today\n",
    "aaii_days = ((aaii.tail(1).index  - pd.datetime.today()).days[0]*-1) - 1\n",
    "aaii = aaii.append([aaii.tail(1)]*aaii_days)\n",
    "\n",
    "aaii_index = pd.date_range('1987/07/31', pd.datetime.today())\n",
    "aaii = aaii.set_index(aaii_index)"
   ]
  },
  {
   "cell_type": "markdown",
   "metadata": {},
   "source": [
    "### Big Mac Index\n",
    "* Bi-annual"
   ]
  },
  {
   "cell_type": "code",
   "execution_count": 105,
   "metadata": {},
   "outputs": [],
   "source": [
    "bigmac = quandl.get(\"ECONOMIST/BIGMAC_USA\", authtoken=\"***************\")"
   ]
  },
  {
   "cell_type": "code",
   "execution_count": 106,
   "metadata": {},
   "outputs": [
    {
     "data": {
      "text/plain": [
       "(32, 10)"
      ]
     },
     "execution_count": 106,
     "metadata": {},
     "output_type": "execute_result"
    }
   ],
   "source": [
    "bigmac.shape"
   ]
  },
  {
   "cell_type": "code",
   "execution_count": 107,
   "metadata": {},
   "outputs": [
    {
     "data": {
      "text/html": [
       "<div>\n",
       "<style scoped>\n",
       "    .dataframe tbody tr th:only-of-type {\n",
       "        vertical-align: middle;\n",
       "    }\n",
       "\n",
       "    .dataframe tbody tr th {\n",
       "        vertical-align: top;\n",
       "    }\n",
       "\n",
       "    .dataframe thead th {\n",
       "        text-align: right;\n",
       "    }\n",
       "</style>\n",
       "<table border=\"1\" class=\"dataframe\">\n",
       "  <thead>\n",
       "    <tr style=\"text-align: right;\">\n",
       "      <th></th>\n",
       "      <th>local_price</th>\n",
       "      <th>dollar_ex</th>\n",
       "      <th>dollar_price</th>\n",
       "      <th>dollar_ppp</th>\n",
       "      <th>dollar_valuation</th>\n",
       "      <th>dollar_adj_valuation</th>\n",
       "      <th>euro_adj_valuation</th>\n",
       "      <th>sterling_adj_valuation</th>\n",
       "      <th>yen_adj_valuation</th>\n",
       "      <th>yuan_adj_valuation</th>\n",
       "    </tr>\n",
       "    <tr>\n",
       "      <th>Date</th>\n",
       "      <th></th>\n",
       "      <th></th>\n",
       "      <th></th>\n",
       "      <th></th>\n",
       "      <th></th>\n",
       "      <th></th>\n",
       "      <th></th>\n",
       "      <th></th>\n",
       "      <th></th>\n",
       "      <th></th>\n",
       "    </tr>\n",
       "  </thead>\n",
       "  <tbody>\n",
       "    <tr>\n",
       "      <th>2000-04-30</th>\n",
       "      <td>2.51</td>\n",
       "      <td>1.0</td>\n",
       "      <td>2.51</td>\n",
       "      <td>1.0</td>\n",
       "      <td>0.0</td>\n",
       "      <td>NaN</td>\n",
       "      <td>NaN</td>\n",
       "      <td>NaN</td>\n",
       "      <td>NaN</td>\n",
       "      <td>NaN</td>\n",
       "    </tr>\n",
       "    <tr>\n",
       "      <th>2001-04-30</th>\n",
       "      <td>2.54</td>\n",
       "      <td>1.0</td>\n",
       "      <td>2.54</td>\n",
       "      <td>1.0</td>\n",
       "      <td>0.0</td>\n",
       "      <td>NaN</td>\n",
       "      <td>NaN</td>\n",
       "      <td>NaN</td>\n",
       "      <td>NaN</td>\n",
       "      <td>NaN</td>\n",
       "    </tr>\n",
       "    <tr>\n",
       "      <th>2002-04-30</th>\n",
       "      <td>2.49</td>\n",
       "      <td>1.0</td>\n",
       "      <td>2.49</td>\n",
       "      <td>1.0</td>\n",
       "      <td>0.0</td>\n",
       "      <td>NaN</td>\n",
       "      <td>NaN</td>\n",
       "      <td>NaN</td>\n",
       "      <td>NaN</td>\n",
       "      <td>NaN</td>\n",
       "    </tr>\n",
       "  </tbody>\n",
       "</table>\n",
       "</div>"
      ],
      "text/plain": [
       "            local_price  dollar_ex  dollar_price  dollar_ppp  \\\n",
       "Date                                                           \n",
       "2000-04-30         2.51        1.0          2.51         1.0   \n",
       "2001-04-30         2.54        1.0          2.54         1.0   \n",
       "2002-04-30         2.49        1.0          2.49         1.0   \n",
       "\n",
       "            dollar_valuation  dollar_adj_valuation  euro_adj_valuation  \\\n",
       "Date                                                                     \n",
       "2000-04-30               0.0                   NaN                 NaN   \n",
       "2001-04-30               0.0                   NaN                 NaN   \n",
       "2002-04-30               0.0                   NaN                 NaN   \n",
       "\n",
       "            sterling_adj_valuation  yen_adj_valuation  yuan_adj_valuation  \n",
       "Date                                                                       \n",
       "2000-04-30                     NaN                NaN                 NaN  \n",
       "2001-04-30                     NaN                NaN                 NaN  \n",
       "2002-04-30                     NaN                NaN                 NaN  "
      ]
     },
     "execution_count": 107,
     "metadata": {},
     "output_type": "execute_result"
    }
   ],
   "source": [
    "bigmac.head(3)"
   ]
  },
  {
   "cell_type": "code",
   "execution_count": 108,
   "metadata": {},
   "outputs": [
    {
     "data": {
      "text/html": [
       "<div>\n",
       "<style scoped>\n",
       "    .dataframe tbody tr th:only-of-type {\n",
       "        vertical-align: middle;\n",
       "    }\n",
       "\n",
       "    .dataframe tbody tr th {\n",
       "        vertical-align: top;\n",
       "    }\n",
       "\n",
       "    .dataframe thead th {\n",
       "        text-align: right;\n",
       "    }\n",
       "</style>\n",
       "<table border=\"1\" class=\"dataframe\">\n",
       "  <thead>\n",
       "    <tr style=\"text-align: right;\">\n",
       "      <th></th>\n",
       "      <th>local_price</th>\n",
       "      <th>dollar_ex</th>\n",
       "      <th>dollar_price</th>\n",
       "      <th>dollar_ppp</th>\n",
       "      <th>dollar_valuation</th>\n",
       "      <th>dollar_adj_valuation</th>\n",
       "      <th>euro_adj_valuation</th>\n",
       "      <th>sterling_adj_valuation</th>\n",
       "      <th>yen_adj_valuation</th>\n",
       "      <th>yuan_adj_valuation</th>\n",
       "    </tr>\n",
       "    <tr>\n",
       "      <th>Date</th>\n",
       "      <th></th>\n",
       "      <th></th>\n",
       "      <th></th>\n",
       "      <th></th>\n",
       "      <th></th>\n",
       "      <th></th>\n",
       "      <th></th>\n",
       "      <th></th>\n",
       "      <th></th>\n",
       "      <th></th>\n",
       "    </tr>\n",
       "  </thead>\n",
       "  <tbody>\n",
       "    <tr>\n",
       "      <th>2019-01-31</th>\n",
       "      <td>5.58</td>\n",
       "      <td>1.0</td>\n",
       "      <td>5.58</td>\n",
       "      <td>1.0</td>\n",
       "      <td>0.0</td>\n",
       "      <td>0.0</td>\n",
       "      <td>-2.6</td>\n",
       "      <td>13.9</td>\n",
       "      <td>27.2</td>\n",
       "      <td>4.0</td>\n",
       "    </tr>\n",
       "    <tr>\n",
       "      <th>2019-07-31</th>\n",
       "      <td>5.74</td>\n",
       "      <td>1.0</td>\n",
       "      <td>5.74</td>\n",
       "      <td>1.0</td>\n",
       "      <td>0.0</td>\n",
       "      <td>0.0</td>\n",
       "      <td>3.6</td>\n",
       "      <td>18.3</td>\n",
       "      <td>33.3</td>\n",
       "      <td>13.4</td>\n",
       "    </tr>\n",
       "    <tr>\n",
       "      <th>2020-01-31</th>\n",
       "      <td>5.67</td>\n",
       "      <td>1.0</td>\n",
       "      <td>5.67</td>\n",
       "      <td>1.0</td>\n",
       "      <td>0.0</td>\n",
       "      <td>0.0</td>\n",
       "      <td>2.8</td>\n",
       "      <td>9.1</td>\n",
       "      <td>31.8</td>\n",
       "      <td>9.2</td>\n",
       "    </tr>\n",
       "  </tbody>\n",
       "</table>\n",
       "</div>"
      ],
      "text/plain": [
       "            local_price  dollar_ex  dollar_price  dollar_ppp  \\\n",
       "Date                                                           \n",
       "2019-01-31         5.58        1.0          5.58         1.0   \n",
       "2019-07-31         5.74        1.0          5.74         1.0   \n",
       "2020-01-31         5.67        1.0          5.67         1.0   \n",
       "\n",
       "            dollar_valuation  dollar_adj_valuation  euro_adj_valuation  \\\n",
       "Date                                                                     \n",
       "2019-01-31               0.0                   0.0                -2.6   \n",
       "2019-07-31               0.0                   0.0                 3.6   \n",
       "2020-01-31               0.0                   0.0                 2.8   \n",
       "\n",
       "            sterling_adj_valuation  yen_adj_valuation  yuan_adj_valuation  \n",
       "Date                                                                       \n",
       "2019-01-31                    13.9               27.2                 4.0  \n",
       "2019-07-31                    18.3               33.3                13.4  \n",
       "2020-01-31                     9.1               31.8                 9.2  "
      ]
     },
     "execution_count": 108,
     "metadata": {},
     "output_type": "execute_result"
    }
   ],
   "source": [
    "bigmac.tail(3)"
   ]
  },
  {
   "cell_type": "code",
   "execution_count": 109,
   "metadata": {},
   "outputs": [
    {
     "data": {
      "text/plain": [
       "<matplotlib.axes._subplots.AxesSubplot at 0x1abe6574f98>"
      ]
     },
     "execution_count": 109,
     "metadata": {},
     "output_type": "execute_result"
    },
    {
     "data": {
      "image/png": "[encoded data removed]",
      "text/plain": [
       "<Figure size 432x288 with 1 Axes>"
      ]
     },
     "metadata": {
      "needs_background": "light"
     },
     "output_type": "display_data"
    }
   ],
   "source": [
    "sns.distplot(bigmac['local_price'].pct_change(), bins=25)"
   ]
  },
  {
   "cell_type": "code",
   "execution_count": 110,
   "metadata": {},
   "outputs": [],
   "source": [
    "bigmac = bigmac['local_price'].pct_change().dropna()\n",
    "bigmac = pd.DataFrame(bigmac.resample('d').ffill().dropna())"
   ]
  },
  {
   "cell_type": "code",
   "execution_count": 111,
   "metadata": {},
   "outputs": [
    {
     "data": {
      "text/html": [
       "<div>\n",
       "<style scoped>\n",
       "    .dataframe tbody tr th:only-of-type {\n",
       "        vertical-align: middle;\n",
       "    }\n",
       "\n",
       "    .dataframe tbody tr th {\n",
       "        vertical-align: top;\n",
       "    }\n",
       "\n",
       "    .dataframe thead th {\n",
       "        text-align: right;\n",
       "    }\n",
       "</style>\n",
       "<table border=\"1\" class=\"dataframe\">\n",
       "  <thead>\n",
       "    <tr style=\"text-align: right;\">\n",
       "      <th></th>\n",
       "      <th>local_price</th>\n",
       "    </tr>\n",
       "    <tr>\n",
       "      <th>Date</th>\n",
       "      <th></th>\n",
       "    </tr>\n",
       "  </thead>\n",
       "  <tbody>\n",
       "    <tr>\n",
       "      <th>2001-04-30</th>\n",
       "      <td>0.011952</td>\n",
       "    </tr>\n",
       "    <tr>\n",
       "      <th>2001-05-01</th>\n",
       "      <td>0.011952</td>\n",
       "    </tr>\n",
       "    <tr>\n",
       "      <th>2001-05-02</th>\n",
       "      <td>0.011952</td>\n",
       "    </tr>\n",
       "  </tbody>\n",
       "</table>\n",
       "</div>"
      ],
      "text/plain": [
       "            local_price\n",
       "Date                   \n",
       "2001-04-30     0.011952\n",
       "2001-05-01     0.011952\n",
       "2001-05-02     0.011952"
      ]
     },
     "execution_count": 111,
     "metadata": {},
     "output_type": "execute_result"
    }
   ],
   "source": [
    "bigmac.head(3)"
   ]
  },
  {
   "cell_type": "code",
   "execution_count": 112,
   "metadata": {},
   "outputs": [
    {
     "data": {
      "text/html": [
       "<div>\n",
       "<style scoped>\n",
       "    .dataframe tbody tr th:only-of-type {\n",
       "        vertical-align: middle;\n",
       "    }\n",
       "\n",
       "    .dataframe tbody tr th {\n",
       "        vertical-align: top;\n",
       "    }\n",
       "\n",
       "    .dataframe thead th {\n",
       "        text-align: right;\n",
       "    }\n",
       "</style>\n",
       "<table border=\"1\" class=\"dataframe\">\n",
       "  <thead>\n",
       "    <tr style=\"text-align: right;\">\n",
       "      <th></th>\n",
       "      <th>local_price</th>\n",
       "    </tr>\n",
       "    <tr>\n",
       "      <th>Date</th>\n",
       "      <th></th>\n",
       "    </tr>\n",
       "  </thead>\n",
       "  <tbody>\n",
       "    <tr>\n",
       "      <th>2020-01-29</th>\n",
       "      <td>0.028674</td>\n",
       "    </tr>\n",
       "    <tr>\n",
       "      <th>2020-01-30</th>\n",
       "      <td>0.028674</td>\n",
       "    </tr>\n",
       "    <tr>\n",
       "      <th>2020-01-31</th>\n",
       "      <td>-0.012195</td>\n",
       "    </tr>\n",
       "  </tbody>\n",
       "</table>\n",
       "</div>"
      ],
      "text/plain": [
       "            local_price\n",
       "Date                   \n",
       "2020-01-29     0.028674\n",
       "2020-01-30     0.028674\n",
       "2020-01-31    -0.012195"
      ]
     },
     "execution_count": 112,
     "metadata": {},
     "output_type": "execute_result"
    }
   ],
   "source": [
    "bigmac.tail(3)"
   ]
  },
  {
   "cell_type": "code",
   "execution_count": 113,
   "metadata": {},
   "outputs": [
    {
     "name": "stderr",
     "output_type": "stream",
     "text": [
      "C:\\Users\\Ronnie\\Anaconda3\\lib\\site-packages\\ipykernel_launcher.py:1: FutureWarning: The pandas.datetime class is deprecated and will be removed from pandas in a future version. Import from datetime module instead.\n",
      "  \"\"\"Entry point for launching an IPython kernel.\n",
      "C:\\Users\\Ronnie\\Anaconda3\\lib\\site-packages\\ipykernel_launcher.py:4: FutureWarning: The pandas.datetime class is deprecated and will be removed from pandas in a future version. Import from datetime module instead.\n",
      "  after removing the cwd from sys.path.\n"
     ]
    }
   ],
   "source": [
    "#extrapolate last datapoint to today\n",
    "bigmac_days = ((bigmac.tail(1).index  - pd.datetime.today()).days[0]*-1) - 1\n",
    "bigmac = bigmac.append([bigmac.tail(1)]*bigmac_days)\n",
    "\n",
    "bigmac_index = pd.date_range('2001-04-30', pd.datetime.today())\n",
    "bigmac = bigmac.set_index(bigmac_index)"
   ]
  },
  {
   "cell_type": "markdown",
   "metadata": {},
   "source": [
    "### Eureka Multi Factor Risk Premia Index\n",
    "* Monthly"
   ]
  },
  {
   "cell_type": "code",
   "execution_count": 125,
   "metadata": {},
   "outputs": [],
   "source": [
    "eureka = quandl.get(\"EUREKA/MEI27\", authtoken=\"***************\")"
   ]
  },
  {
   "cell_type": "code",
   "execution_count": 126,
   "metadata": {},
   "outputs": [
    {
     "data": {
      "text/plain": [
       "(119, 1)"
      ]
     },
     "execution_count": 126,
     "metadata": {},
     "output_type": "execute_result"
    }
   ],
   "source": [
    "eureka.shape"
   ]
  },
  {
   "cell_type": "code",
   "execution_count": 127,
   "metadata": {},
   "outputs": [
    {
     "data": {
      "text/html": [
       "<div>\n",
       "<style scoped>\n",
       "    .dataframe tbody tr th:only-of-type {\n",
       "        vertical-align: middle;\n",
       "    }\n",
       "\n",
       "    .dataframe tbody tr th {\n",
       "        vertical-align: top;\n",
       "    }\n",
       "\n",
       "    .dataframe thead th {\n",
       "        text-align: right;\n",
       "    }\n",
       "</style>\n",
       "<table border=\"1\" class=\"dataframe\">\n",
       "  <thead>\n",
       "    <tr style=\"text-align: right;\">\n",
       "      <th></th>\n",
       "      <th>Returns</th>\n",
       "    </tr>\n",
       "    <tr>\n",
       "      <th>Date</th>\n",
       "      <th></th>\n",
       "    </tr>\n",
       "  </thead>\n",
       "  <tbody>\n",
       "    <tr>\n",
       "      <th>2010-08-31</th>\n",
       "      <td>0.729503</td>\n",
       "    </tr>\n",
       "    <tr>\n",
       "      <th>2010-09-30</th>\n",
       "      <td>1.894452</td>\n",
       "    </tr>\n",
       "    <tr>\n",
       "      <th>2010-10-31</th>\n",
       "      <td>2.550354</td>\n",
       "    </tr>\n",
       "  </tbody>\n",
       "</table>\n",
       "</div>"
      ],
      "text/plain": [
       "             Returns\n",
       "Date                \n",
       "2010-08-31  0.729503\n",
       "2010-09-30  1.894452\n",
       "2010-10-31  2.550354"
      ]
     },
     "execution_count": 127,
     "metadata": {},
     "output_type": "execute_result"
    }
   ],
   "source": [
    "eureka.head(3)"
   ]
  },
  {
   "cell_type": "code",
   "execution_count": 128,
   "metadata": {},
   "outputs": [
    {
     "data": {
      "text/html": [
       "<div>\n",
       "<style scoped>\n",
       "    .dataframe tbody tr th:only-of-type {\n",
       "        vertical-align: middle;\n",
       "    }\n",
       "\n",
       "    .dataframe tbody tr th {\n",
       "        vertical-align: top;\n",
       "    }\n",
       "\n",
       "    .dataframe thead th {\n",
       "        text-align: right;\n",
       "    }\n",
       "</style>\n",
       "<table border=\"1\" class=\"dataframe\">\n",
       "  <thead>\n",
       "    <tr style=\"text-align: right;\">\n",
       "      <th></th>\n",
       "      <th>Returns</th>\n",
       "    </tr>\n",
       "    <tr>\n",
       "      <th>Date</th>\n",
       "      <th></th>\n",
       "    </tr>\n",
       "  </thead>\n",
       "  <tbody>\n",
       "    <tr>\n",
       "      <th>2020-04-30</th>\n",
       "      <td>-0.278543</td>\n",
       "    </tr>\n",
       "    <tr>\n",
       "      <th>2020-05-31</th>\n",
       "      <td>-0.180853</td>\n",
       "    </tr>\n",
       "    <tr>\n",
       "      <th>2020-06-30</th>\n",
       "      <td>-1.265943</td>\n",
       "    </tr>\n",
       "  </tbody>\n",
       "</table>\n",
       "</div>"
      ],
      "text/plain": [
       "             Returns\n",
       "Date                \n",
       "2020-04-30 -0.278543\n",
       "2020-05-31 -0.180853\n",
       "2020-06-30 -1.265943"
      ]
     },
     "execution_count": 128,
     "metadata": {},
     "output_type": "execute_result"
    }
   ],
   "source": [
    "eureka.tail(3)"
   ]
  },
  {
   "cell_type": "code",
   "execution_count": 129,
   "metadata": {},
   "outputs": [
    {
     "data": {
      "image/png": "[encoded data removed]",
      "text/plain": [
       "<Figure size 432x288 with 1 Axes>"
      ]
     },
     "metadata": {
      "needs_background": "light"
     },
     "output_type": "display_data"
    }
   ],
   "source": [
    "sns.distplot(eureka['Returns'], bins=50)\n",
    "plt.show()"
   ]
  },
  {
   "cell_type": "code",
   "execution_count": 130,
   "metadata": {},
   "outputs": [],
   "source": [
    "eureka = eureka['Returns'].pct_change().dropna()\n",
    "eureka = pd.DataFrame(eureka.resample('d').ffill().dropna())"
   ]
  },
  {
   "cell_type": "code",
   "execution_count": 131,
   "metadata": {},
   "outputs": [
    {
     "data": {
      "text/html": [
       "<div>\n",
       "<style scoped>\n",
       "    .dataframe tbody tr th:only-of-type {\n",
       "        vertical-align: middle;\n",
       "    }\n",
       "\n",
       "    .dataframe tbody tr th {\n",
       "        vertical-align: top;\n",
       "    }\n",
       "\n",
       "    .dataframe thead th {\n",
       "        text-align: right;\n",
       "    }\n",
       "</style>\n",
       "<table border=\"1\" class=\"dataframe\">\n",
       "  <thead>\n",
       "    <tr style=\"text-align: right;\">\n",
       "      <th></th>\n",
       "      <th>Returns</th>\n",
       "    </tr>\n",
       "    <tr>\n",
       "      <th>Date</th>\n",
       "      <th></th>\n",
       "    </tr>\n",
       "  </thead>\n",
       "  <tbody>\n",
       "    <tr>\n",
       "      <th>2010-09-30</th>\n",
       "      <td>1.596909</td>\n",
       "    </tr>\n",
       "    <tr>\n",
       "      <th>2010-10-01</th>\n",
       "      <td>1.596909</td>\n",
       "    </tr>\n",
       "    <tr>\n",
       "      <th>2010-10-02</th>\n",
       "      <td>1.596909</td>\n",
       "    </tr>\n",
       "  </tbody>\n",
       "</table>\n",
       "</div>"
      ],
      "text/plain": [
       "             Returns\n",
       "Date                \n",
       "2010-09-30  1.596909\n",
       "2010-10-01  1.596909\n",
       "2010-10-02  1.596909"
      ]
     },
     "execution_count": 131,
     "metadata": {},
     "output_type": "execute_result"
    }
   ],
   "source": [
    "eureka.head(3)"
   ]
  },
  {
   "cell_type": "code",
   "execution_count": 132,
   "metadata": {},
   "outputs": [
    {
     "data": {
      "text/html": [
       "<div>\n",
       "<style scoped>\n",
       "    .dataframe tbody tr th:only-of-type {\n",
       "        vertical-align: middle;\n",
       "    }\n",
       "\n",
       "    .dataframe tbody tr th {\n",
       "        vertical-align: top;\n",
       "    }\n",
       "\n",
       "    .dataframe thead th {\n",
       "        text-align: right;\n",
       "    }\n",
       "</style>\n",
       "<table border=\"1\" class=\"dataframe\">\n",
       "  <thead>\n",
       "    <tr style=\"text-align: right;\">\n",
       "      <th></th>\n",
       "      <th>Returns</th>\n",
       "    </tr>\n",
       "    <tr>\n",
       "      <th>Date</th>\n",
       "      <th></th>\n",
       "    </tr>\n",
       "  </thead>\n",
       "  <tbody>\n",
       "    <tr>\n",
       "      <th>2020-06-28</th>\n",
       "      <td>-0.350717</td>\n",
       "    </tr>\n",
       "    <tr>\n",
       "      <th>2020-06-29</th>\n",
       "      <td>-0.350717</td>\n",
       "    </tr>\n",
       "    <tr>\n",
       "      <th>2020-06-30</th>\n",
       "      <td>5.999842</td>\n",
       "    </tr>\n",
       "  </tbody>\n",
       "</table>\n",
       "</div>"
      ],
      "text/plain": [
       "             Returns\n",
       "Date                \n",
       "2020-06-28 -0.350717\n",
       "2020-06-29 -0.350717\n",
       "2020-06-30  5.999842"
      ]
     },
     "execution_count": 132,
     "metadata": {},
     "output_type": "execute_result"
    }
   ],
   "source": [
    "eureka.tail(3)"
   ]
  },
  {
   "cell_type": "code",
   "execution_count": 133,
   "metadata": {},
   "outputs": [
    {
     "name": "stderr",
     "output_type": "stream",
     "text": [
      "C:\\Users\\Ronnie\\Anaconda3\\lib\\site-packages\\ipykernel_launcher.py:3: FutureWarning: The pandas.datetime class is deprecated and will be removed from pandas in a future version. Import from datetime module instead.\n",
      "  This is separate from the ipykernel package so we can avoid doing imports until\n",
      "C:\\Users\\Ronnie\\Anaconda3\\lib\\site-packages\\ipykernel_launcher.py:6: FutureWarning: The pandas.datetime class is deprecated and will be removed from pandas in a future version. Import from datetime module instead.\n",
      "  \n"
     ]
    }
   ],
   "source": [
    "#extrapolate last datapoint to today\n",
    "eureka_days = ((eureka.tail(1).index  - pd.datetime.today()).days[0]*-1) - 1\n",
    "eureka = eureka.append([eureka.tail(1)]*eureka_days)\n",
    "\n",
    "eureka_index = pd.date_range('2010-09-30', pd.datetime.today())\n",
    "eureka = eureka.set_index(eureka_index)"
   ]
  },
  {
   "cell_type": "markdown",
   "metadata": {},
   "source": [
    "### US Misery Index"
   ]
  },
  {
   "cell_type": "code",
   "execution_count": 161,
   "metadata": {},
   "outputs": [],
   "source": [
    "misery = quandl.get(\"USMISERY/INDEX\", authtoken=\"***************\")"
   ]
  },
  {
   "cell_type": "code",
   "execution_count": 162,
   "metadata": {},
   "outputs": [
    {
     "data": {
      "text/plain": [
       "(867, 3)"
      ]
     },
     "execution_count": 162,
     "metadata": {},
     "output_type": "execute_result"
    }
   ],
   "source": [
    "misery.shape"
   ]
  },
  {
   "cell_type": "code",
   "execution_count": 163,
   "metadata": {},
   "outputs": [
    {
     "data": {
      "text/html": [
       "<div>\n",
       "<style scoped>\n",
       "    .dataframe tbody tr th:only-of-type {\n",
       "        vertical-align: middle;\n",
       "    }\n",
       "\n",
       "    .dataframe tbody tr th {\n",
       "        vertical-align: top;\n",
       "    }\n",
       "\n",
       "    .dataframe thead th {\n",
       "        text-align: right;\n",
       "    }\n",
       "</style>\n",
       "<table border=\"1\" class=\"dataframe\">\n",
       "  <thead>\n",
       "    <tr style=\"text-align: right;\">\n",
       "      <th></th>\n",
       "      <th>Unemployment Rate</th>\n",
       "      <th>Inflation Rate</th>\n",
       "      <th>Misery Index</th>\n",
       "    </tr>\n",
       "    <tr>\n",
       "      <th>Date</th>\n",
       "      <th></th>\n",
       "      <th></th>\n",
       "      <th></th>\n",
       "    </tr>\n",
       "  </thead>\n",
       "  <tbody>\n",
       "    <tr>\n",
       "      <th>1948-01-31</th>\n",
       "      <td>3.4</td>\n",
       "      <td>10.23</td>\n",
       "      <td>13.63</td>\n",
       "    </tr>\n",
       "    <tr>\n",
       "      <th>1948-02-29</th>\n",
       "      <td>3.8</td>\n",
       "      <td>9.30</td>\n",
       "      <td>13.10</td>\n",
       "    </tr>\n",
       "    <tr>\n",
       "      <th>1948-03-31</th>\n",
       "      <td>4.0</td>\n",
       "      <td>6.85</td>\n",
       "      <td>10.85</td>\n",
       "    </tr>\n",
       "  </tbody>\n",
       "</table>\n",
       "</div>"
      ],
      "text/plain": [
       "            Unemployment Rate  Inflation Rate  Misery Index\n",
       "Date                                                       \n",
       "1948-01-31                3.4           10.23         13.63\n",
       "1948-02-29                3.8            9.30         13.10\n",
       "1948-03-31                4.0            6.85         10.85"
      ]
     },
     "execution_count": 163,
     "metadata": {},
     "output_type": "execute_result"
    }
   ],
   "source": [
    "misery.head(3)"
   ]
  },
  {
   "cell_type": "code",
   "execution_count": 164,
   "metadata": {
    "scrolled": true
   },
   "outputs": [
    {
     "data": {
      "text/html": [
       "<div>\n",
       "<style scoped>\n",
       "    .dataframe tbody tr th:only-of-type {\n",
       "        vertical-align: middle;\n",
       "    }\n",
       "\n",
       "    .dataframe tbody tr th {\n",
       "        vertical-align: top;\n",
       "    }\n",
       "\n",
       "    .dataframe thead th {\n",
       "        text-align: right;\n",
       "    }\n",
       "</style>\n",
       "<table border=\"1\" class=\"dataframe\">\n",
       "  <thead>\n",
       "    <tr style=\"text-align: right;\">\n",
       "      <th></th>\n",
       "      <th>Unemployment Rate</th>\n",
       "      <th>Inflation Rate</th>\n",
       "      <th>Misery Index</th>\n",
       "    </tr>\n",
       "    <tr>\n",
       "      <th>Date</th>\n",
       "      <th></th>\n",
       "      <th></th>\n",
       "      <th></th>\n",
       "    </tr>\n",
       "  </thead>\n",
       "  <tbody>\n",
       "    <tr>\n",
       "      <th>2020-03-31</th>\n",
       "      <td>4.4</td>\n",
       "      <td>1.54</td>\n",
       "      <td>5.94</td>\n",
       "    </tr>\n",
       "    <tr>\n",
       "      <th>2020-04-30</th>\n",
       "      <td>14.7</td>\n",
       "      <td>0.33</td>\n",
       "      <td>15.03</td>\n",
       "    </tr>\n",
       "    <tr>\n",
       "      <th>2020-05-31</th>\n",
       "      <td>13.3</td>\n",
       "      <td>0.12</td>\n",
       "      <td>13.42</td>\n",
       "    </tr>\n",
       "  </tbody>\n",
       "</table>\n",
       "</div>"
      ],
      "text/plain": [
       "            Unemployment Rate  Inflation Rate  Misery Index\n",
       "Date                                                       \n",
       "2020-03-31                4.4            1.54          5.94\n",
       "2020-04-30               14.7            0.33         15.03\n",
       "2020-05-31               13.3            0.12         13.42"
      ]
     },
     "execution_count": 164,
     "metadata": {},
     "output_type": "execute_result"
    }
   ],
   "source": [
    "misery.tail(3)"
   ]
  },
  {
   "cell_type": "code",
   "execution_count": 165,
   "metadata": {},
   "outputs": [
    {
     "data": {
      "image/png": "[encoded data removed]",
      "text/plain": [
       "<Figure size 432x288 with 1 Axes>"
      ]
     },
     "metadata": {
      "needs_background": "light"
     },
     "output_type": "display_data"
    }
   ],
   "source": [
    "sns.distplot(misery['Unemployment Rate'])\n",
    "plt.show()"
   ]
  },
  {
   "cell_type": "code",
   "execution_count": 166,
   "metadata": {},
   "outputs": [
    {
     "data": {
      "image/png": "[encoded data removed]",
      "text/plain": [
       "<Figure size 432x288 with 1 Axes>"
      ]
     },
     "metadata": {
      "needs_background": "light"
     },
     "output_type": "display_data"
    }
   ],
   "source": [
    "sns.distplot(misery['Inflation Rate'])\n",
    "plt.show()"
   ]
  },
  {
   "cell_type": "code",
   "execution_count": 167,
   "metadata": {},
   "outputs": [
    {
     "data": {
      "image/png": "[encoded data removed]",
      "text/plain": [
       "<Figure size 432x288 with 1 Axes>"
      ]
     },
     "metadata": {
      "needs_background": "light"
     },
     "output_type": "display_data"
    }
   ],
   "source": [
    "sns.distplot(misery['Misery Index'])\n",
    "plt.show()"
   ]
  },
  {
   "cell_type": "code",
   "execution_count": 168,
   "metadata": {},
   "outputs": [],
   "source": [
    "misery = misery[['Unemployment Rate','Inflation Rate','Misery Index']].pct_change().dropna()\n",
    "misery = misery[['Unemployment Rate','Inflation Rate','Misery Index']]\n",
    "misery = misery.resample('d').ffill().dropna()"
   ]
  },
  {
   "cell_type": "code",
   "execution_count": 169,
   "metadata": {},
   "outputs": [
    {
     "data": {
      "text/html": [
       "<div>\n",
       "<style scoped>\n",
       "    .dataframe tbody tr th:only-of-type {\n",
       "        vertical-align: middle;\n",
       "    }\n",
       "\n",
       "    .dataframe tbody tr th {\n",
       "        vertical-align: top;\n",
       "    }\n",
       "\n",
       "    .dataframe thead th {\n",
       "        text-align: right;\n",
       "    }\n",
       "</style>\n",
       "<table border=\"1\" class=\"dataframe\">\n",
       "  <thead>\n",
       "    <tr style=\"text-align: right;\">\n",
       "      <th></th>\n",
       "      <th>Unemployment Rate</th>\n",
       "      <th>Inflation Rate</th>\n",
       "      <th>Misery Index</th>\n",
       "    </tr>\n",
       "    <tr>\n",
       "      <th>Date</th>\n",
       "      <th></th>\n",
       "      <th></th>\n",
       "      <th></th>\n",
       "    </tr>\n",
       "  </thead>\n",
       "  <tbody>\n",
       "    <tr>\n",
       "      <th>1948-02-29</th>\n",
       "      <td>0.117647</td>\n",
       "      <td>-0.090909</td>\n",
       "      <td>-0.038885</td>\n",
       "    </tr>\n",
       "    <tr>\n",
       "      <th>1948-03-01</th>\n",
       "      <td>0.117647</td>\n",
       "      <td>-0.090909</td>\n",
       "      <td>-0.038885</td>\n",
       "    </tr>\n",
       "    <tr>\n",
       "      <th>1948-03-02</th>\n",
       "      <td>0.117647</td>\n",
       "      <td>-0.090909</td>\n",
       "      <td>-0.038885</td>\n",
       "    </tr>\n",
       "  </tbody>\n",
       "</table>\n",
       "</div>"
      ],
      "text/plain": [
       "            Unemployment Rate  Inflation Rate  Misery Index\n",
       "Date                                                       \n",
       "1948-02-29           0.117647       -0.090909     -0.038885\n",
       "1948-03-01           0.117647       -0.090909     -0.038885\n",
       "1948-03-02           0.117647       -0.090909     -0.038885"
      ]
     },
     "execution_count": 169,
     "metadata": {},
     "output_type": "execute_result"
    }
   ],
   "source": [
    "misery.head(3)"
   ]
  },
  {
   "cell_type": "code",
   "execution_count": 170,
   "metadata": {},
   "outputs": [
    {
     "data": {
      "text/html": [
       "<div>\n",
       "<style scoped>\n",
       "    .dataframe tbody tr th:only-of-type {\n",
       "        vertical-align: middle;\n",
       "    }\n",
       "\n",
       "    .dataframe tbody tr th {\n",
       "        vertical-align: top;\n",
       "    }\n",
       "\n",
       "    .dataframe thead th {\n",
       "        text-align: right;\n",
       "    }\n",
       "</style>\n",
       "<table border=\"1\" class=\"dataframe\">\n",
       "  <thead>\n",
       "    <tr style=\"text-align: right;\">\n",
       "      <th></th>\n",
       "      <th>Unemployment Rate</th>\n",
       "      <th>Inflation Rate</th>\n",
       "      <th>Misery Index</th>\n",
       "    </tr>\n",
       "    <tr>\n",
       "      <th>Date</th>\n",
       "      <th></th>\n",
       "      <th></th>\n",
       "      <th></th>\n",
       "    </tr>\n",
       "  </thead>\n",
       "  <tbody>\n",
       "    <tr>\n",
       "      <th>2020-05-29</th>\n",
       "      <td>2.340909</td>\n",
       "      <td>-0.785714</td>\n",
       "      <td>1.530303</td>\n",
       "    </tr>\n",
       "    <tr>\n",
       "      <th>2020-05-30</th>\n",
       "      <td>2.340909</td>\n",
       "      <td>-0.785714</td>\n",
       "      <td>1.530303</td>\n",
       "    </tr>\n",
       "    <tr>\n",
       "      <th>2020-05-31</th>\n",
       "      <td>-0.095238</td>\n",
       "      <td>-0.636364</td>\n",
       "      <td>-0.107119</td>\n",
       "    </tr>\n",
       "  </tbody>\n",
       "</table>\n",
       "</div>"
      ],
      "text/plain": [
       "            Unemployment Rate  Inflation Rate  Misery Index\n",
       "Date                                                       \n",
       "2020-05-29           2.340909       -0.785714      1.530303\n",
       "2020-05-30           2.340909       -0.785714      1.530303\n",
       "2020-05-31          -0.095238       -0.636364     -0.107119"
      ]
     },
     "execution_count": 170,
     "metadata": {},
     "output_type": "execute_result"
    }
   ],
   "source": [
    "misery.tail(3)"
   ]
  },
  {
   "cell_type": "code",
   "execution_count": 171,
   "metadata": {},
   "outputs": [
    {
     "name": "stderr",
     "output_type": "stream",
     "text": [
      "C:\\Users\\Ronnie\\Anaconda3\\lib\\site-packages\\ipykernel_launcher.py:2: FutureWarning: The pandas.datetime class is deprecated and will be removed from pandas in a future version. Import from datetime module instead.\n",
      "  \n",
      "C:\\Users\\Ronnie\\Anaconda3\\lib\\site-packages\\ipykernel_launcher.py:5: FutureWarning: The pandas.datetime class is deprecated and will be removed from pandas in a future version. Import from datetime module instead.\n",
      "  \"\"\"\n"
     ]
    }
   ],
   "source": [
    "#extrapolate last datapoint to today\n",
    "misery_days = ((misery.tail(1).index  - pd.datetime.today()).days[0]*-1) - 1\n",
    "misery = misery.append([misery.tail(1)]*misery_days)\n",
    "\n",
    "misery_index = pd.date_range('1948-02-29', pd.datetime.today())\n",
    "misery = misery.set_index(misery_index)"
   ]
  },
  {
   "cell_type": "markdown",
   "metadata": {},
   "source": [
    "### Reddit WorldNews Sentiment\n",
    "* textblob sentiment\n",
    "* vader sentiment"
   ]
  },
  {
   "cell_type": "code",
   "execution_count": 55,
   "metadata": {},
   "outputs": [],
   "source": [
    "reddit = pd.read_csv(\"Reddit Sentiment/sentiments.csv\")"
   ]
  },
  {
   "cell_type": "code",
   "execution_count": 56,
   "metadata": {},
   "outputs": [
    {
     "data": {
      "text/html": [
       "<div>\n",
       "<style scoped>\n",
       "    .dataframe tbody tr th:only-of-type {\n",
       "        vertical-align: middle;\n",
       "    }\n",
       "\n",
       "    .dataframe tbody tr th {\n",
       "        vertical-align: top;\n",
       "    }\n",
       "\n",
       "    .dataframe thead th {\n",
       "        text-align: right;\n",
       "    }\n",
       "</style>\n",
       "<table border=\"1\" class=\"dataframe\">\n",
       "  <thead>\n",
       "    <tr style=\"text-align: right;\">\n",
       "      <th></th>\n",
       "      <th>Date</th>\n",
       "      <th>textblob_sentiment</th>\n",
       "      <th>vader_sentiment</th>\n",
       "    </tr>\n",
       "  </thead>\n",
       "  <tbody>\n",
       "    <tr>\n",
       "      <th>0</th>\n",
       "      <td>2008-06-08</td>\n",
       "      <td>-1</td>\n",
       "      <td>-1</td>\n",
       "    </tr>\n",
       "    <tr>\n",
       "      <th>1</th>\n",
       "      <td>2008-06-09</td>\n",
       "      <td>0</td>\n",
       "      <td>-1</td>\n",
       "    </tr>\n",
       "    <tr>\n",
       "      <th>2</th>\n",
       "      <td>2008-06-10</td>\n",
       "      <td>-1</td>\n",
       "      <td>-1</td>\n",
       "    </tr>\n",
       "  </tbody>\n",
       "</table>\n",
       "</div>"
      ],
      "text/plain": [
       "         Date  textblob_sentiment  vader_sentiment\n",
       "0  2008-06-08                  -1               -1\n",
       "1  2008-06-09                   0               -1\n",
       "2  2008-06-10                  -1               -1"
      ]
     },
     "execution_count": 56,
     "metadata": {},
     "output_type": "execute_result"
    }
   ],
   "source": [
    "reddit.head(3)"
   ]
  },
  {
   "cell_type": "code",
   "execution_count": 57,
   "metadata": {},
   "outputs": [
    {
     "data": {
      "text/html": [
       "<div>\n",
       "<style scoped>\n",
       "    .dataframe tbody tr th:only-of-type {\n",
       "        vertical-align: middle;\n",
       "    }\n",
       "\n",
       "    .dataframe tbody tr th {\n",
       "        vertical-align: top;\n",
       "    }\n",
       "\n",
       "    .dataframe thead th {\n",
       "        text-align: right;\n",
       "    }\n",
       "</style>\n",
       "<table border=\"1\" class=\"dataframe\">\n",
       "  <thead>\n",
       "    <tr style=\"text-align: right;\">\n",
       "      <th></th>\n",
       "      <th>Date</th>\n",
       "      <th>textblob_sentiment</th>\n",
       "      <th>vader_sentiment</th>\n",
       "    </tr>\n",
       "  </thead>\n",
       "  <tbody>\n",
       "    <tr>\n",
       "      <th>2940</th>\n",
       "      <td>2016-06-29</td>\n",
       "      <td>1</td>\n",
       "      <td>1</td>\n",
       "    </tr>\n",
       "    <tr>\n",
       "      <th>2941</th>\n",
       "      <td>2016-06-30</td>\n",
       "      <td>1</td>\n",
       "      <td>-1</td>\n",
       "    </tr>\n",
       "    <tr>\n",
       "      <th>2942</th>\n",
       "      <td>2016-07-01</td>\n",
       "      <td>1</td>\n",
       "      <td>-1</td>\n",
       "    </tr>\n",
       "  </tbody>\n",
       "</table>\n",
       "</div>"
      ],
      "text/plain": [
       "            Date  textblob_sentiment  vader_sentiment\n",
       "2940  2016-06-29                   1                1\n",
       "2941  2016-06-30                   1               -1\n",
       "2942  2016-07-01                   1               -1"
      ]
     },
     "execution_count": 57,
     "metadata": {},
     "output_type": "execute_result"
    }
   ],
   "source": [
    "reddit.tail(3)"
   ]
  },
  {
   "cell_type": "code",
   "execution_count": 58,
   "metadata": {},
   "outputs": [
    {
     "data": {
      "image/png": "[encoded data removed]",
      "text/plain": [
       "<Figure size 432x288 with 1 Axes>"
      ]
     },
     "metadata": {
      "needs_background": "light"
     },
     "output_type": "display_data"
    }
   ],
   "source": [
    "plt.hist(reddit['textblob_sentiment'])\n",
    "plt.show()"
   ]
  },
  {
   "cell_type": "code",
   "execution_count": 59,
   "metadata": {},
   "outputs": [
    {
     "data": {
      "image/png": "[encoded data removed]",
      "text/plain": [
       "<Figure size 432x288 with 1 Axes>"
      ]
     },
     "metadata": {
      "needs_background": "light"
     },
     "output_type": "display_data"
    }
   ],
   "source": [
    "plt.hist(reddit['vader_sentiment'])\n",
    "plt.show()"
   ]
  },
  {
   "cell_type": "code",
   "execution_count": 60,
   "metadata": {},
   "outputs": [],
   "source": [
    "reddit.index = pd.to_datetime(reddit['Date'])\n",
    "reddit.drop('Date', axis=1, inplace=True)"
   ]
  },
  {
   "cell_type": "markdown",
   "metadata": {},
   "source": [
    "### Merging Alternative Data\n",
    "* reddit (2008-06-09 - 2016-07-01)\n",
    "* misery (1948-01-31 - 2020-04-30)\n",
    "* eureka (2010-08-31 - 2020-04-30)\n",
    "* bigmac (2000-04-30 - 2019-07-31)\n",
    "* aaii   (1987-06-26 - 2020-06-18) "
   ]
  },
  {
   "cell_type": "code",
   "execution_count": 174,
   "metadata": {},
   "outputs": [],
   "source": [
    "alternative_data = eureka.join(misery).join(bigmac).join(aaii)\n",
    "alternative_data.replace([np.inf, -np.inf], np.nan, inplace=True)\n",
    "alternative_data.dropna(inplace=True)"
   ]
  },
  {
   "cell_type": "code",
   "execution_count": 175,
   "metadata": {},
   "outputs": [
    {
     "data": {
      "text/html": [
       "<div>\n",
       "<style scoped>\n",
       "    .dataframe tbody tr th:only-of-type {\n",
       "        vertical-align: middle;\n",
       "    }\n",
       "\n",
       "    .dataframe tbody tr th {\n",
       "        vertical-align: top;\n",
       "    }\n",
       "\n",
       "    .dataframe thead th {\n",
       "        text-align: right;\n",
       "    }\n",
       "</style>\n",
       "<table border=\"1\" class=\"dataframe\">\n",
       "  <thead>\n",
       "    <tr style=\"text-align: right;\">\n",
       "      <th></th>\n",
       "      <th>Returns</th>\n",
       "      <th>Unemployment Rate</th>\n",
       "      <th>Inflation Rate</th>\n",
       "      <th>Misery Index</th>\n",
       "      <th>local_price</th>\n",
       "      <th>Bullish</th>\n",
       "      <th>Neutral</th>\n",
       "      <th>Bearish</th>\n",
       "      <th>Bull-Bear Spread</th>\n",
       "    </tr>\n",
       "  </thead>\n",
       "  <tbody>\n",
       "    <tr>\n",
       "      <th>2010-09-30</th>\n",
       "      <td>1.596909</td>\n",
       "      <td>0.0</td>\n",
       "      <td>-0.008696</td>\n",
       "      <td>-0.00093</td>\n",
       "      <td>0.042831</td>\n",
       "      <td>-0.054258</td>\n",
       "      <td>-0.127236</td>\n",
       "      <td>0.244488</td>\n",
       "      <td>-0.442003</td>\n",
       "    </tr>\n",
       "    <tr>\n",
       "      <th>2010-10-01</th>\n",
       "      <td>1.596909</td>\n",
       "      <td>0.0</td>\n",
       "      <td>-0.008696</td>\n",
       "      <td>-0.00093</td>\n",
       "      <td>0.042831</td>\n",
       "      <td>-0.054258</td>\n",
       "      <td>-0.127236</td>\n",
       "      <td>0.244488</td>\n",
       "      <td>-0.442003</td>\n",
       "    </tr>\n",
       "    <tr>\n",
       "      <th>2010-10-02</th>\n",
       "      <td>1.596909</td>\n",
       "      <td>0.0</td>\n",
       "      <td>-0.008696</td>\n",
       "      <td>-0.00093</td>\n",
       "      <td>0.042831</td>\n",
       "      <td>-0.054258</td>\n",
       "      <td>-0.127236</td>\n",
       "      <td>0.244488</td>\n",
       "      <td>-0.442003</td>\n",
       "    </tr>\n",
       "  </tbody>\n",
       "</table>\n",
       "</div>"
      ],
      "text/plain": [
       "             Returns  Unemployment Rate  Inflation Rate  Misery Index  \\\n",
       "2010-09-30  1.596909                0.0       -0.008696      -0.00093   \n",
       "2010-10-01  1.596909                0.0       -0.008696      -0.00093   \n",
       "2010-10-02  1.596909                0.0       -0.008696      -0.00093   \n",
       "\n",
       "            local_price   Bullish   Neutral   Bearish  Bull-Bear Spread  \n",
       "2010-09-30     0.042831 -0.054258 -0.127236  0.244488         -0.442003  \n",
       "2010-10-01     0.042831 -0.054258 -0.127236  0.244488         -0.442003  \n",
       "2010-10-02     0.042831 -0.054258 -0.127236  0.244488         -0.442003  "
      ]
     },
     "execution_count": 175,
     "metadata": {},
     "output_type": "execute_result"
    }
   ],
   "source": [
    "alternative_data.head(3)"
   ]
  },
  {
   "cell_type": "code",
   "execution_count": 176,
   "metadata": {},
   "outputs": [
    {
     "data": {
      "text/html": [
       "<div>\n",
       "<style scoped>\n",
       "    .dataframe tbody tr th:only-of-type {\n",
       "        vertical-align: middle;\n",
       "    }\n",
       "\n",
       "    .dataframe tbody tr th {\n",
       "        vertical-align: top;\n",
       "    }\n",
       "\n",
       "    .dataframe thead th {\n",
       "        text-align: right;\n",
       "    }\n",
       "</style>\n",
       "<table border=\"1\" class=\"dataframe\">\n",
       "  <thead>\n",
       "    <tr style=\"text-align: right;\">\n",
       "      <th></th>\n",
       "      <th>Returns</th>\n",
       "      <th>Unemployment Rate</th>\n",
       "      <th>Inflation Rate</th>\n",
       "      <th>Misery Index</th>\n",
       "      <th>local_price</th>\n",
       "      <th>Bullish</th>\n",
       "      <th>Neutral</th>\n",
       "      <th>Bearish</th>\n",
       "      <th>Bull-Bear Spread</th>\n",
       "    </tr>\n",
       "  </thead>\n",
       "  <tbody>\n",
       "    <tr>\n",
       "      <th>2020-06-29</th>\n",
       "      <td>-0.350717</td>\n",
       "      <td>-0.095238</td>\n",
       "      <td>-0.636364</td>\n",
       "      <td>-0.107119</td>\n",
       "      <td>-0.012195</td>\n",
       "      <td>-0.009406</td>\n",
       "      <td>-0.03192</td>\n",
       "      <td>0.023397</td>\n",
       "      <td>0.057529</td>\n",
       "    </tr>\n",
       "    <tr>\n",
       "      <th>2020-06-30</th>\n",
       "      <td>5.999842</td>\n",
       "      <td>-0.095238</td>\n",
       "      <td>-0.636364</td>\n",
       "      <td>-0.107119</td>\n",
       "      <td>-0.012195</td>\n",
       "      <td>-0.009406</td>\n",
       "      <td>-0.03192</td>\n",
       "      <td>0.023397</td>\n",
       "      <td>0.057529</td>\n",
       "    </tr>\n",
       "    <tr>\n",
       "      <th>2020-07-01</th>\n",
       "      <td>5.999842</td>\n",
       "      <td>-0.095238</td>\n",
       "      <td>-0.636364</td>\n",
       "      <td>-0.107119</td>\n",
       "      <td>-0.012195</td>\n",
       "      <td>-0.009406</td>\n",
       "      <td>-0.03192</td>\n",
       "      <td>0.023397</td>\n",
       "      <td>0.057529</td>\n",
       "    </tr>\n",
       "  </tbody>\n",
       "</table>\n",
       "</div>"
      ],
      "text/plain": [
       "             Returns  Unemployment Rate  Inflation Rate  Misery Index  \\\n",
       "2020-06-29 -0.350717          -0.095238       -0.636364     -0.107119   \n",
       "2020-06-30  5.999842          -0.095238       -0.636364     -0.107119   \n",
       "2020-07-01  5.999842          -0.095238       -0.636364     -0.107119   \n",
       "\n",
       "            local_price   Bullish  Neutral   Bearish  Bull-Bear Spread  \n",
       "2020-06-29    -0.012195 -0.009406 -0.03192  0.023397          0.057529  \n",
       "2020-06-30    -0.012195 -0.009406 -0.03192  0.023397          0.057529  \n",
       "2020-07-01    -0.012195 -0.009406 -0.03192  0.023397          0.057529  "
      ]
     },
     "execution_count": 176,
     "metadata": {},
     "output_type": "execute_result"
    }
   ],
   "source": [
    "alternative_data.tail(3)"
   ]
  },
  {
   "cell_type": "code",
   "execution_count": 177,
   "metadata": {},
   "outputs": [
    {
     "data": {
      "text/html": [
       "<div>\n",
       "<style scoped>\n",
       "    .dataframe tbody tr th:only-of-type {\n",
       "        vertical-align: middle;\n",
       "    }\n",
       "\n",
       "    .dataframe tbody tr th {\n",
       "        vertical-align: top;\n",
       "    }\n",
       "\n",
       "    .dataframe thead th {\n",
       "        text-align: right;\n",
       "    }\n",
       "</style>\n",
       "<table border=\"1\" class=\"dataframe\">\n",
       "  <thead>\n",
       "    <tr style=\"text-align: right;\">\n",
       "      <th></th>\n",
       "      <th>Returns</th>\n",
       "      <th>Unemployment Rate</th>\n",
       "      <th>Inflation Rate</th>\n",
       "      <th>Misery Index</th>\n",
       "      <th>local_price</th>\n",
       "      <th>Bullish</th>\n",
       "      <th>Neutral</th>\n",
       "      <th>Bearish</th>\n",
       "      <th>Bull-Bear Spread</th>\n",
       "    </tr>\n",
       "  </thead>\n",
       "  <tbody>\n",
       "    <tr>\n",
       "      <th>2013-03-22</th>\n",
       "      <td>-1.031326</td>\n",
       "      <td>-0.025316</td>\n",
       "      <td>0.245283</td>\n",
       "      <td>0.020021</td>\n",
       "      <td>0.009219</td>\n",
       "      <td>-0.142583</td>\n",
       "      <td>0.229392</td>\n",
       "      <td>0.040690</td>\n",
       "      <td>-0.580986</td>\n",
       "    </tr>\n",
       "    <tr>\n",
       "      <th>2013-10-08</th>\n",
       "      <td>-1.798561</td>\n",
       "      <td>-0.013699</td>\n",
       "      <td>-0.223684</td>\n",
       "      <td>-0.049887</td>\n",
       "      <td>0.043337</td>\n",
       "      <td>0.049464</td>\n",
       "      <td>-0.037161</td>\n",
       "      <td>-0.017790</td>\n",
       "      <td>0.427768</td>\n",
       "    </tr>\n",
       "    <tr>\n",
       "      <th>2020-02-04</th>\n",
       "      <td>-1.955020</td>\n",
       "      <td>0.028571</td>\n",
       "      <td>0.087336</td>\n",
       "      <td>0.051813</td>\n",
       "      <td>-0.012195</td>\n",
       "      <td>-0.298751</td>\n",
       "      <td>0.051830</td>\n",
       "      <td>0.488035</td>\n",
       "      <td>-1.234148</td>\n",
       "    </tr>\n",
       "    <tr>\n",
       "      <th>2019-07-04</th>\n",
       "      <td>-1.904348</td>\n",
       "      <td>0.000000</td>\n",
       "      <td>-0.105000</td>\n",
       "      <td>-0.037500</td>\n",
       "      <td>0.012704</td>\n",
       "      <td>0.120521</td>\n",
       "      <td>-0.100745</td>\n",
       "      <td>0.009300</td>\n",
       "      <td>-1.325331</td>\n",
       "    </tr>\n",
       "    <tr>\n",
       "      <th>2016-03-25</th>\n",
       "      <td>-0.081572</td>\n",
       "      <td>0.000000</td>\n",
       "      <td>-0.255474</td>\n",
       "      <td>-0.055821</td>\n",
       "      <td>0.029228</td>\n",
       "      <td>0.127579</td>\n",
       "      <td>-0.015659</td>\n",
       "      <td>-0.117124</td>\n",
       "      <td>2.248322</td>\n",
       "    </tr>\n",
       "    <tr>\n",
       "      <th>2012-08-03</th>\n",
       "      <td>-3.097266</td>\n",
       "      <td>0.012195</td>\n",
       "      <td>-0.150602</td>\n",
       "      <td>-0.015213</td>\n",
       "      <td>0.031040</td>\n",
       "      <td>0.082974</td>\n",
       "      <td>0.204246</td>\n",
       "      <td>-0.190248</td>\n",
       "      <td>-0.701811</td>\n",
       "    </tr>\n",
       "    <tr>\n",
       "      <th>2018-08-23</th>\n",
       "      <td>-0.697906</td>\n",
       "      <td>-0.025000</td>\n",
       "      <td>0.027875</td>\n",
       "      <td>-0.002911</td>\n",
       "      <td>0.043561</td>\n",
       "      <td>0.063348</td>\n",
       "      <td>-0.008025</td>\n",
       "      <td>-0.069210</td>\n",
       "      <td>0.606836</td>\n",
       "    </tr>\n",
       "    <tr>\n",
       "      <th>2013-07-01</th>\n",
       "      <td>-0.661736</td>\n",
       "      <td>0.000000</td>\n",
       "      <td>0.286765</td>\n",
       "      <td>0.043527</td>\n",
       "      <td>0.009219</td>\n",
       "      <td>-0.191653</td>\n",
       "      <td>0.060529</td>\n",
       "      <td>0.173741</td>\n",
       "      <td>-1.653210</td>\n",
       "    </tr>\n",
       "    <tr>\n",
       "      <th>2019-08-17</th>\n",
       "      <td>-1.019022</td>\n",
       "      <td>0.000000</td>\n",
       "      <td>-0.105000</td>\n",
       "      <td>-0.037500</td>\n",
       "      <td>0.028674</td>\n",
       "      <td>0.070183</td>\n",
       "      <td>0.060553</td>\n",
       "      <td>-0.069415</td>\n",
       "      <td>-0.183329</td>\n",
       "    </tr>\n",
       "    <tr>\n",
       "      <th>2016-08-06</th>\n",
       "      <td>-2.109843</td>\n",
       "      <td>0.000000</td>\n",
       "      <td>-0.168317</td>\n",
       "      <td>-0.028765</td>\n",
       "      <td>0.022312</td>\n",
       "      <td>-0.046810</td>\n",
       "      <td>0.076815</td>\n",
       "      <td>-0.057591</td>\n",
       "      <td>0.061002</td>\n",
       "    </tr>\n",
       "  </tbody>\n",
       "</table>\n",
       "</div>"
      ],
      "text/plain": [
       "             Returns  Unemployment Rate  Inflation Rate  Misery Index  \\\n",
       "2013-03-22 -1.031326          -0.025316        0.245283      0.020021   \n",
       "2013-10-08 -1.798561          -0.013699       -0.223684     -0.049887   \n",
       "2020-02-04 -1.955020           0.028571        0.087336      0.051813   \n",
       "2019-07-04 -1.904348           0.000000       -0.105000     -0.037500   \n",
       "2016-03-25 -0.081572           0.000000       -0.255474     -0.055821   \n",
       "2012-08-03 -3.097266           0.012195       -0.150602     -0.015213   \n",
       "2018-08-23 -0.697906          -0.025000        0.027875     -0.002911   \n",
       "2013-07-01 -0.661736           0.000000        0.286765      0.043527   \n",
       "2019-08-17 -1.019022           0.000000       -0.105000     -0.037500   \n",
       "2016-08-06 -2.109843           0.000000       -0.168317     -0.028765   \n",
       "\n",
       "            local_price   Bullish   Neutral   Bearish  Bull-Bear Spread  \n",
       "2013-03-22     0.009219 -0.142583  0.229392  0.040690         -0.580986  \n",
       "2013-10-08     0.043337  0.049464 -0.037161 -0.017790          0.427768  \n",
       "2020-02-04    -0.012195 -0.298751  0.051830  0.488035         -1.234148  \n",
       "2019-07-04     0.012704  0.120521 -0.100745  0.009300         -1.325331  \n",
       "2016-03-25     0.029228  0.127579 -0.015659 -0.117124          2.248322  \n",
       "2012-08-03     0.031040  0.082974  0.204246 -0.190248         -0.701811  \n",
       "2018-08-23     0.043561  0.063348 -0.008025 -0.069210          0.606836  \n",
       "2013-07-01     0.009219 -0.191653  0.060529  0.173741         -1.653210  \n",
       "2019-08-17     0.028674  0.070183  0.060553 -0.069415         -0.183329  \n",
       "2016-08-06     0.022312 -0.046810  0.076815 -0.057591          0.061002  "
      ]
     },
     "execution_count": 177,
     "metadata": {},
     "output_type": "execute_result"
    }
   ],
   "source": [
    "alternative_data.sample(10)"
   ]
  },
  {
   "cell_type": "code",
   "execution_count": 184,
   "metadata": {},
   "outputs": [
    {
     "data": {
      "text/html": [
       "<div>\n",
       "<style scoped>\n",
       "    .dataframe tbody tr th:only-of-type {\n",
       "        vertical-align: middle;\n",
       "    }\n",
       "\n",
       "    .dataframe tbody tr th {\n",
       "        vertical-align: top;\n",
       "    }\n",
       "\n",
       "    .dataframe thead th {\n",
       "        text-align: right;\n",
       "    }\n",
       "</style>\n",
       "<table border=\"1\" class=\"dataframe\">\n",
       "  <thead>\n",
       "    <tr style=\"text-align: right;\">\n",
       "      <th></th>\n",
       "      <th>index</th>\n",
       "      <th>Returns</th>\n",
       "      <th>Unemployment Rate</th>\n",
       "      <th>Inflation Rate</th>\n",
       "      <th>Misery Index</th>\n",
       "      <th>local_price</th>\n",
       "      <th>Bullish</th>\n",
       "      <th>Neutral</th>\n",
       "      <th>Bearish</th>\n",
       "      <th>Bull-Bear Spread</th>\n",
       "    </tr>\n",
       "  </thead>\n",
       "  <tbody>\n",
       "    <tr>\n",
       "      <th>0</th>\n",
       "      <td>2010-09-30</td>\n",
       "      <td>1.596909</td>\n",
       "      <td>0.000000</td>\n",
       "      <td>-0.008696</td>\n",
       "      <td>-0.000930</td>\n",
       "      <td>0.042831</td>\n",
       "      <td>-0.054258</td>\n",
       "      <td>-0.127236</td>\n",
       "      <td>0.244488</td>\n",
       "      <td>-0.442003</td>\n",
       "    </tr>\n",
       "    <tr>\n",
       "      <th>1</th>\n",
       "      <td>2010-10-01</td>\n",
       "      <td>1.596909</td>\n",
       "      <td>0.000000</td>\n",
       "      <td>-0.008696</td>\n",
       "      <td>-0.000930</td>\n",
       "      <td>0.042831</td>\n",
       "      <td>-0.054258</td>\n",
       "      <td>-0.127236</td>\n",
       "      <td>0.244488</td>\n",
       "      <td>-0.442003</td>\n",
       "    </tr>\n",
       "    <tr>\n",
       "      <th>2</th>\n",
       "      <td>2010-10-02</td>\n",
       "      <td>1.596909</td>\n",
       "      <td>0.000000</td>\n",
       "      <td>-0.008696</td>\n",
       "      <td>-0.000930</td>\n",
       "      <td>0.042831</td>\n",
       "      <td>-0.054258</td>\n",
       "      <td>-0.127236</td>\n",
       "      <td>0.244488</td>\n",
       "      <td>-0.442003</td>\n",
       "    </tr>\n",
       "    <tr>\n",
       "      <th>3</th>\n",
       "      <td>2010-10-03</td>\n",
       "      <td>1.596909</td>\n",
       "      <td>0.000000</td>\n",
       "      <td>-0.008696</td>\n",
       "      <td>-0.000930</td>\n",
       "      <td>0.042831</td>\n",
       "      <td>-0.054258</td>\n",
       "      <td>-0.127236</td>\n",
       "      <td>0.244488</td>\n",
       "      <td>-0.442003</td>\n",
       "    </tr>\n",
       "    <tr>\n",
       "      <th>4</th>\n",
       "      <td>2010-10-04</td>\n",
       "      <td>1.596909</td>\n",
       "      <td>0.000000</td>\n",
       "      <td>-0.008696</td>\n",
       "      <td>-0.000930</td>\n",
       "      <td>0.042831</td>\n",
       "      <td>-0.054258</td>\n",
       "      <td>-0.127236</td>\n",
       "      <td>0.244488</td>\n",
       "      <td>-0.442003</td>\n",
       "    </tr>\n",
       "    <tr>\n",
       "      <th>...</th>\n",
       "      <td>...</td>\n",
       "      <td>...</td>\n",
       "      <td>...</td>\n",
       "      <td>...</td>\n",
       "      <td>...</td>\n",
       "      <td>...</td>\n",
       "      <td>...</td>\n",
       "      <td>...</td>\n",
       "      <td>...</td>\n",
       "      <td>...</td>\n",
       "    </tr>\n",
       "    <tr>\n",
       "      <th>3523</th>\n",
       "      <td>2020-06-27</td>\n",
       "      <td>-0.350717</td>\n",
       "      <td>-0.095238</td>\n",
       "      <td>-0.636364</td>\n",
       "      <td>-0.107119</td>\n",
       "      <td>-0.012195</td>\n",
       "      <td>-0.009406</td>\n",
       "      <td>-0.031920</td>\n",
       "      <td>0.023397</td>\n",
       "      <td>0.057529</td>\n",
       "    </tr>\n",
       "    <tr>\n",
       "      <th>3524</th>\n",
       "      <td>2020-06-28</td>\n",
       "      <td>-0.350717</td>\n",
       "      <td>-0.095238</td>\n",
       "      <td>-0.636364</td>\n",
       "      <td>-0.107119</td>\n",
       "      <td>-0.012195</td>\n",
       "      <td>-0.009406</td>\n",
       "      <td>-0.031920</td>\n",
       "      <td>0.023397</td>\n",
       "      <td>0.057529</td>\n",
       "    </tr>\n",
       "    <tr>\n",
       "      <th>3525</th>\n",
       "      <td>2020-06-29</td>\n",
       "      <td>-0.350717</td>\n",
       "      <td>-0.095238</td>\n",
       "      <td>-0.636364</td>\n",
       "      <td>-0.107119</td>\n",
       "      <td>-0.012195</td>\n",
       "      <td>-0.009406</td>\n",
       "      <td>-0.031920</td>\n",
       "      <td>0.023397</td>\n",
       "      <td>0.057529</td>\n",
       "    </tr>\n",
       "    <tr>\n",
       "      <th>3526</th>\n",
       "      <td>2020-06-30</td>\n",
       "      <td>5.999842</td>\n",
       "      <td>-0.095238</td>\n",
       "      <td>-0.636364</td>\n",
       "      <td>-0.107119</td>\n",
       "      <td>-0.012195</td>\n",
       "      <td>-0.009406</td>\n",
       "      <td>-0.031920</td>\n",
       "      <td>0.023397</td>\n",
       "      <td>0.057529</td>\n",
       "    </tr>\n",
       "    <tr>\n",
       "      <th>3527</th>\n",
       "      <td>2020-07-01</td>\n",
       "      <td>5.999842</td>\n",
       "      <td>-0.095238</td>\n",
       "      <td>-0.636364</td>\n",
       "      <td>-0.107119</td>\n",
       "      <td>-0.012195</td>\n",
       "      <td>-0.009406</td>\n",
       "      <td>-0.031920</td>\n",
       "      <td>0.023397</td>\n",
       "      <td>0.057529</td>\n",
       "    </tr>\n",
       "  </tbody>\n",
       "</table>\n",
       "<p>3528 rows × 10 columns</p>\n",
       "</div>"
      ],
      "text/plain": [
       "          index   Returns  Unemployment Rate  Inflation Rate  Misery Index  \\\n",
       "0    2010-09-30  1.596909           0.000000       -0.008696     -0.000930   \n",
       "1    2010-10-01  1.596909           0.000000       -0.008696     -0.000930   \n",
       "2    2010-10-02  1.596909           0.000000       -0.008696     -0.000930   \n",
       "3    2010-10-03  1.596909           0.000000       -0.008696     -0.000930   \n",
       "4    2010-10-04  1.596909           0.000000       -0.008696     -0.000930   \n",
       "...         ...       ...                ...             ...           ...   \n",
       "3523 2020-06-27 -0.350717          -0.095238       -0.636364     -0.107119   \n",
       "3524 2020-06-28 -0.350717          -0.095238       -0.636364     -0.107119   \n",
       "3525 2020-06-29 -0.350717          -0.095238       -0.636364     -0.107119   \n",
       "3526 2020-06-30  5.999842          -0.095238       -0.636364     -0.107119   \n",
       "3527 2020-07-01  5.999842          -0.095238       -0.636364     -0.107119   \n",
       "\n",
       "      local_price   Bullish   Neutral   Bearish  Bull-Bear Spread  \n",
       "0        0.042831 -0.054258 -0.127236  0.244488         -0.442003  \n",
       "1        0.042831 -0.054258 -0.127236  0.244488         -0.442003  \n",
       "2        0.042831 -0.054258 -0.127236  0.244488         -0.442003  \n",
       "3        0.042831 -0.054258 -0.127236  0.244488         -0.442003  \n",
       "4        0.042831 -0.054258 -0.127236  0.244488         -0.442003  \n",
       "...           ...       ...       ...       ...               ...  \n",
       "3523    -0.012195 -0.009406 -0.031920  0.023397          0.057529  \n",
       "3524    -0.012195 -0.009406 -0.031920  0.023397          0.057529  \n",
       "3525    -0.012195 -0.009406 -0.031920  0.023397          0.057529  \n",
       "3526    -0.012195 -0.009406 -0.031920  0.023397          0.057529  \n",
       "3527    -0.012195 -0.009406 -0.031920  0.023397          0.057529  \n",
       "\n",
       "[3528 rows x 10 columns]"
      ]
     },
     "execution_count": 184,
     "metadata": {},
     "output_type": "execute_result"
    }
   ],
   "source": [
    "alternative_data"
   ]
  },
  {
   "cell_type": "code",
   "execution_count": 183,
   "metadata": {},
   "outputs": [],
   "source": [
    "alternative_data.to_csv(\"data/cleaned_alternative_data.csv\")"
   ]
  },
  {
   "cell_type": "code",
   "execution_count": null,
   "metadata": {},
   "outputs": [],
   "source": []
  }
 ],
 "metadata": {
  "kernelspec": {
   "display_name": "Python 3",
   "language": "python",
   "name": "python3"
  },
  "language_info": {
   "codemirror_mode": {
    "name": "ipython",
    "version": 3
   },
   "file_extension": ".py",
   "mimetype": "text/x-python",
   "name": "python",
   "nbconvert_exporter": "python",
   "pygments_lexer": "ipython3",
   "version": "3.7.3"
  }
 },
 "nbformat": 4,
 "nbformat_minor": 4
}
